{
 "cells": [
  {
   "cell_type": "code",
   "execution_count": 17,
   "metadata": {},
   "outputs": [
    {
     "name": "stdout",
     "output_type": "stream",
     "text": [
      "<class 'float'>\n",
      "<class 'float'>\n"
     ]
    }
   ],
   "source": [
    "import tkinter as tk\n",
    "window = tk.Tk()\n",
    "window.title(\"Airbnb price recommendation\")\n",
    "window.geometry(\"800x800\")\n",
    "\n",
    "\n",
    "def calculate_price():\n",
    "    accomodates = float(entry_field1.get())\n",
    "    bedrooms = float(entry_field2.get())\n",
    "    beds = float(entry_field3.get())\n",
    "    bathrooms = float(entry_field4.get())\n",
    "    #roomtype = entry_field5.get()\n",
    "    print (type(accomodates))\n",
    "    return (\"price =\" + str(accomodates+bedrooms+beds+bathrooms))\n",
    "\n",
    "def display_price():\n",
    "    price = calculate_price()\n",
    "    price_display = tk.Text(master = window, height=10, width = 30)\n",
    "    price_display.grid(column = 0, row = 12)\n",
    "    price_display.insert(tk.END,price)\n",
    "    \n",
    "    \n",
    "title = tk.Label(text=\"please input below information to get the recommendated price\")\n",
    "title.grid()\n",
    "\n",
    "accomodates = tk.Label(text = \"Input your accomodates\")\n",
    "accomodates.grid(column = 0, row = 1)\n",
    "entry_field1 = tk.Entry()\n",
    "entry_field1.grid(column = 0, row = 2)\n",
    "\n",
    "bedrooms = tk.Label(text = \"Input your bedrooms\")\n",
    "bedrooms.grid(column = 0, row = 3)\n",
    "entry_field2 = tk.Entry()\n",
    "entry_field2.grid(column = 0, row = 4)\n",
    "\n",
    "beds = tk.Label(text = \"Input your beds\")\n",
    "beds.grid(column = 0, row = 5)\n",
    "entry_field3 = tk.Entry()\n",
    "entry_field3.grid(column = 0, row = 6)\n",
    "\n",
    "bathrooms = tk.Label(text = \"Input your bathrooms\")\n",
    "bathrooms.grid(column = 0, row = 7)\n",
    "entry_field4 = tk.Entry()\n",
    "entry_field4.grid(column = 0, row = 8)\n",
    "\n",
    "# roomtype = tk.Label(text = \"Input your roomtype\")\n",
    "# roomtype.grid(column = 0, row = 9)\n",
    "# entry_field4 = tk.Entry()\n",
    "# entry_field4.grid(column = 0, row = 10)\n",
    "\n",
    "calculate_button = tk.Button(text=\"calculate\", command =display_price ) \n",
    "calculate_button.grid(column = 0, row = 10)\n",
    "\n",
    "\n",
    "window.mainloop()"
   ]
  },
  {
   "cell_type": "code",
   "execution_count": null,
   "metadata": {},
   "outputs": [],
   "source": []
  }
 ],
 "metadata": {
  "kernelspec": {
   "display_name": "Python 3",
   "language": "python",
   "name": "python3"
  },
  "language_info": {
   "codemirror_mode": {
    "name": "ipython",
    "version": 3
   },
   "file_extension": ".py",
   "mimetype": "text/x-python",
   "name": "python",
   "nbconvert_exporter": "python",
   "pygments_lexer": "ipython3",
   "version": "3.6.5"
  }
 },
 "nbformat": 4,
 "nbformat_minor": 2
}
